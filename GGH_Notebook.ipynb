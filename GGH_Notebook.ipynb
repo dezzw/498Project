{
 "cells": [
  {
   "cell_type": "code",
   "execution_count": 889,
   "id": "06a188b3",
   "metadata": {},
   "outputs": [],
   "source": [
    "class GGH:\n",
    "\n",
    "    def __init__(self, d, privateKey = None, privateMatrix = None):\n",
    "        self.__d = d\n",
    "        self.__privateKey = privateKey\n",
    "        self.__privateMatrix = privateMatrix\n",
    "        if privateKey != None:\n",
    "            self.setKey(privateKey, privateMatrix)\n",
    "        else:\n",
    "            self.generateKey(d)\n",
    "\n",
    "    def setKey(self, privateKey, privateMatrix = None):\n",
    "        if 0.9 <= hadamardRatio(privateKey) <= 1:\n",
    "                self.__privateKey = privateKey\n",
    "\n",
    "        if privateMatrix != None:\n",
    "            if privateKey.nrows() == privateMatrix.nrows() and privateKey.ncols() == privateMatrix.ncols():\n",
    "                self.__privateMatrix = privateMatrix\n",
    "            else:\n",
    "                raise Exception(\"Private keys must be the same size\")\n",
    "\n",
    "        self.generatePublicKey()\n",
    "\n",
    "    def generateKey(self, d):\n",
    "        self.generatePrivateKey(d)\n",
    "        self.generatePublicKey()\n",
    "\n",
    "    def generatePrivateKey(self, d):\n",
    "        while True:\n",
    "            key = random_matrix(ZZ, d, x=-128, y=128)\n",
    "            try:\n",
    "                if hadamardRatio(key) >= 0.9:\n",
    "                    self.__privateKey = key\n",
    "                    break\n",
    "            except ZeroDivisionError:\n",
    "                pass\n",
    "\n",
    "    def generatePublicKey(self):\n",
    "        if self.__privateMatrix == None:\n",
    "            self.__privateMatrix = random_matrix(ZZ, self.__d, upper_bound=128, algorithm='unimodular')\n",
    "            key = self.__privateMatrix * self.__privateKey\n",
    "            while hadamardRatio(key) > 0.1:\n",
    "                self.__privateMatrix = random_matrix(ZZ, self.__d, upper_bound=128, algorithm='unimodular')\n",
    "                key = self.__privateMatrix * self.__privateKey\n",
    "        \n",
    "            self.__publicKey = key\n",
    "        else:\n",
    "            self.__publicKey = self.__privateMatrix * self.__privateKey\n",
    "\n",
    "    def encrypt(self, m, e = None):\n",
    "        message_length = len(m)\n",
    "        if e == None:\n",
    "            sigma = floor(shortestVector(self.__privateKey)/2)\n",
    "            if sigma >= 5 or sigma <= 0:\n",
    "                sigma = 5\n",
    "            e = random_vector(ZZ, message_length, x=-sigma, y=sigma)\n",
    "        return (m * self.__publicKey) + e\n",
    "\n",
    "    def decrypt(self, c): \n",
    "        mW = babai(c, self.__privateKey)\n",
    "        return mW * self.__publicKey.inverse()\n",
    "\n",
    "    def encryptString(self, m):\n",
    "        if type(m) == str:\n",
    "            n = self.__privateKey.nrows()\n",
    "            messages = [m[i:i+n] for i in range(0, len(m), n)]\n",
    "            cipher = []\n",
    "            for block in messages:\n",
    "                while len(block) < n: \n",
    "                    block += chr(0)\n",
    "                cipher.append(self.encrypt(vector([ord(c) for c in block])))\n",
    "            return cipher\n",
    "        else:\n",
    "            raise Exception(\"Message must be a string\")\n",
    "\n",
    "    def decryptString(self, c):\n",
    "        message = \"\"\n",
    "        for i in c:\n",
    "            block = self.decrypt(vector(i))\n",
    "            for m in block:\n",
    "                message += chr(m)\n",
    "        return message\n",
    "    \n",
    "    def getPublicKey(self):\n",
    "        return self.__publicKey\n",
    "\n",
    "def babai(w, basis):\n",
    "    r = Matrix(RR, w)\n",
    "    R = basis.change_ring(RR).solve_left(r)\n",
    "    z = vector(ZZ, [round(t) for t in R[0]])\n",
    "    return z * basis\n",
    "    \n",
    "def hadamardRatio(basis):\n",
    "    if basis.nrows() != basis.ncols():\n",
    "        raise Exception(\"Basis must be square\")\n",
    "    basis = basis.change_ring(RR)\n",
    "    d = basis.nrows()\n",
    "    topValue = basis.determinant().abs()\n",
    "    bottomValue = 1\n",
    "    for i in basis:\n",
    "        bottomValue *= i.norm()\n",
    "    return (topValue/bottomValue) ** (1/d)\n",
    "\n",
    "def shortestVector(basis):\n",
    "    basis.change_ring(RR)\n",
    "    min = float('inf')\n",
    "    for x in basis:\n",
    "        if x.norm() < min:\n",
    "            min = x.norm()\n",
    "    return min"
   ]
  },
  {
   "cell_type": "markdown",
   "metadata": {},
   "source": [
    "The first example is given the private key and randomly generating a public key."
   ]
  },
  {
   "cell_type": "code",
   "execution_count": 890,
   "metadata": {},
   "outputs": [
    {
     "name": "stdout",
     "output_type": "stream",
     "text": [
      "The public key is:\n",
      "[-77 -57]\n",
      "[-28 -21]\n"
     ]
    }
   ],
   "source": [
    "privateKey = Matrix(ZZ, 2, 2, [[7, 0], [0, 3]])\n",
    "ggh = GGH(2, privateKey)\n",
    "print(\"The public key is:\")\n",
    "print(ggh.getPublicKey())"
   ]
  },
  {
   "cell_type": "markdown",
   "metadata": {},
   "source": [
    "After generating the public key, the sender can use the public key to encrypt a message."
   ]
  },
  {
   "cell_type": "code",
   "execution_count": 891,
   "metadata": {},
   "outputs": [
    {
     "name": "stdout",
     "output_type": "stream",
     "text": [
      "The plaintext message is: (3, -7)\n",
      "The ciphertext message is: (-35, -25)\n"
     ]
    }
   ],
   "source": [
    "m = vector(ZZ, [3, -7])\n",
    "print(f\"The plaintext message is: {m}\")\n",
    "c = ggh.encrypt(m)\n",
    "print(f\"The ciphertext message is: {c}\")"
   ]
  },
  {
   "cell_type": "markdown",
   "metadata": {},
   "source": [
    "Once the receiver received the ciphertext, he can use his private key to decrypt the message."
   ]
  },
  {
   "cell_type": "code",
   "execution_count": 892,
   "metadata": {},
   "outputs": [
    {
     "name": "stdout",
     "output_type": "stream",
     "text": [
      "The decrypted plaintext message is: (3, -7)\n"
     ]
    }
   ],
   "source": [
    "ggh.decrypt(c)\n",
    "print(f\"The decrypted plaintext message is: {m}\")"
   ]
  },
  {
   "cell_type": "markdown",
   "metadata": {},
   "source": [
    "The next example is randomly generating a private key in a given dimensional size (4 in this case)."
   ]
  },
  {
   "cell_type": "code",
   "execution_count": 893,
   "metadata": {},
   "outputs": [
    {
     "name": "stdout",
     "output_type": "stream",
     "text": [
      "The public key is:\n"
     ]
    },
    {
     "data": {
      "text/plain": [
       "[ 9634 -8919  1363  6234]\n",
       "[10117 -8954  1409  6700]\n",
       "[ 3166 -2808   354  2336]\n",
       "[-4102  3763  -575 -2676]"
      ]
     },
     "execution_count": 893,
     "metadata": {},
     "output_type": "execute_result"
    }
   ],
   "source": [
    "ggh2 = GGH(4)\n",
    "print(\"The public key is:\")\n",
    "ggh2.getPublicKey()"
   ]
  },
  {
   "cell_type": "markdown",
   "metadata": {},
   "source": [
    "We can encrypt a message by translating the characters into their ASCII values, and then do the regular decryption."
   ]
  },
  {
   "cell_type": "code",
   "execution_count": 894,
   "metadata": {},
   "outputs": [
    {
     "name": "stdout",
     "output_type": "stream",
     "text": [
      "The plaintext message is \"Hello, World!\"\n",
      "The ciphertext message is:\n",
      "[(1614377, -1443381, 216576, 1088830), (1258959, -1146464, 174589, 828717), (2154436, -1937733, 292646, 1440458), (317924, -294323, 44982, 205724)]\n"
     ]
    }
   ],
   "source": [
    "m = \"Hello, World!\"\n",
    "print(f\"The plaintext message is \\\"{m}\\\"\")\n",
    "cc = ggh2.encryptString(m)\n",
    "print(\"The ciphertext message is:\")\n",
    "print(cc)"
   ]
  },
  {
   "cell_type": "markdown",
   "metadata": {},
   "source": [
    "We can decrypt each block of ciphertext and translate them from ASCII to English."
   ]
  },
  {
   "cell_type": "code",
   "execution_count": 895,
   "metadata": {},
   "outputs": [
    {
     "name": "stdout",
     "output_type": "stream",
     "text": [
      "The decrypted plaintext message is \"Hello, World!\u0000\u0000\u0000\"\n"
     ]
    }
   ],
   "source": [
    "m = ggh2.decryptString(cc)\n",
    "print(f\"The decrypted plaintext message is \\\"{m}\\\"\")"
   ]
  },
  {
   "cell_type": "markdown",
   "metadata": {},
   "source": [
    "The blow class defines three possible methods to attack the GGH cryptosystem."
   ]
  },
  {
   "cell_type": "code",
   "execution_count": 896,
   "metadata": {},
   "outputs": [],
   "source": [
    "class GGHAttacker:\n",
    "    \n",
    "    def __init__(self, publicKey):\n",
    "        self.__publicKey = publicKey\n",
    "\n",
    "    def solvePrivateKey(self):\n",
    "        return self.__publicKey.LLL()\n",
    "\n",
    "    def solveErrorVector(self, c):\n",
    "        d = len(c) + 1\n",
    "        entries = [[j for j in i] + [0] for i in self.__publicKey]\n",
    "        entries += ([[i for i in c] + [1]])\n",
    "        newMatrix = matrix(ZZ, d, d, entries)\n",
    "        row = [i for i in newMatrix.LLL()[0]]\n",
    "        error = row[0: d - 1]\n",
    "        errorVector = vector(ZZ, error)\n",
    "        print(f\"The error vector is: {errorVector}\\n\")\n",
    "        return (c - errorVector) * self.__publicKey.inverse()\n",
    "\n",
    "    def nguyenAttack(self, c, sigma):\n",
    "        left = (c + vector(ZZ, [sigma] * len(c))) % (2 * sigma)\n",
    "        right = self.__publicKey % (2 * sigma)\n",
    "        return right.solve_left(left)\n",
    "        \n"
   ]
  },
  {
   "cell_type": "markdown",
   "metadata": {},
   "source": [
    "The first method is we can use the LLL algorithm to reduce the public key into a short, orthogonal basis (a good basis like the private key)."
   ]
  },
  {
   "cell_type": "code",
   "execution_count": 897,
   "metadata": {},
   "outputs": [
    {
     "name": "stdout",
     "output_type": "stream",
     "text": [
      "The private key in this system is\n",
      "[7 0]\n",
      "[0 3]\n",
      "The LLL reduced matrix is\n",
      "[0 3]\n",
      "[7 0]\n"
     ]
    }
   ],
   "source": [
    "attacker = GGHAttacker(ggh.getPublicKey())\n",
    "print(\"The private key in this system is\")\n",
    "print(privateKey)\n",
    "print(\"The LLL reduced matrix is\")\n",
    "print(attacker.solvePrivateKey())"
   ]
  },
  {
   "cell_type": "code",
   "execution_count": 898,
   "metadata": {},
   "outputs": [
    {
     "data": {
      "text/plain": [
       "(3, -7)"
      ]
     },
     "execution_count": 898,
     "metadata": {},
     "output_type": "execute_result"
    }
   ],
   "source": [
    "m = vector(ZZ, [3, -7])\n",
    "c = ggh.encrypt(m)\n",
    "m = babai(c, attacker.solvePrivateKey())\n",
    "m * ggh.getPublicKey().inverse()"
   ]
  },
  {
   "cell_type": "markdown",
   "metadata": {},
   "source": [
    "Also, we can test that as long as the basis is nearly orthogonal, we can use LLL algorithm to reduce the public key to a similar private key."
   ]
  },
  {
   "cell_type": "code",
   "execution_count": 899,
   "metadata": {},
   "outputs": [
    {
     "name": "stdout",
     "output_type": "stream",
     "text": [
      "The private key in this system is\n",
      "[ 75  35]\n",
      "[ 12 -16]\n",
      "The LLL reduced matrix is\n",
      "[-12  16]\n",
      "[-63 -51]\n"
     ]
    },
    {
     "data": {
      "text/plain": [
       "(5, 2)"
      ]
     },
     "execution_count": 899,
     "metadata": {},
     "output_type": "execute_result"
    }
   ],
   "source": [
    "privateKey = None\n",
    "while True:\n",
    "    key = random_matrix(ZZ, 2, x=-128, y=128)\n",
    "    try:\n",
    "        if hadamardRatio(key) >= 0.9:\n",
    "            privateKey = key\n",
    "            break\n",
    "    except ZeroDivisionError:\n",
    "        pass\n",
    "\n",
    "privateMatrix = random_matrix(ZZ, 2, upper_bound=128, algorithm='unimodular')\n",
    "\n",
    "m = vector(ZZ, [5, 2])\n",
    "ggh_5 = GGH(2, privateKey)\n",
    "print(\"The private key in this system is\")\n",
    "print(privateKey)\n",
    "c = ggh_5.encrypt(m)\n",
    "attacker_5 = GGHAttacker(ggh_5.getPublicKey())\n",
    "print(\"The LLL reduced matrix is\")\n",
    "print(attacker_5.solvePrivateKey())\n",
    "babai(c, attacker_5.solvePrivateKey()) * ggh_5.getPublicKey().inverse()"
   ]
  },
  {
   "cell_type": "markdown",
   "metadata": {},
   "source": [
    "The second attack method is to construct a new matrix with known information such as ciphertext and the public key. Then, we can compute the error vector used in the encryption process."
   ]
  },
  {
   "cell_type": "code",
   "execution_count": 900,
   "metadata": {},
   "outputs": [],
   "source": [
    "b = matrix(ZZ, 3, 3, [[-97, 19, 19], [-36, 30, 86], [-184, -64, 78]])\n",
    "u = matrix(ZZ, 3, 3, [[4327, -15447, 23454], [3297, -11770, 17871], [5464, -19506, 29617]])\n",
    "m = vector(ZZ, [86, -35, -32])\n",
    "e = vector(ZZ, [-4, -3, 2])\n",
    "ggh_2 = GGH(3, b, u)\n",
    "c = ggh_2.encrypt(m, e)"
   ]
  },
  {
   "cell_type": "code",
   "execution_count": 901,
   "metadata": {},
   "outputs": [
    {
     "name": "stdout",
     "output_type": "stream",
     "text": [
      "The error vector is: (-4, -3, 2)\n",
      "\n",
      "The decrypted plaintext message is: (86, -35, -32)\n"
     ]
    }
   ],
   "source": [
    "attacker_2 = GGHAttacker(ggh_2.getPublicKey())\n",
    "print(f\"The decrypted plaintext message is: {attacker_2.solveErrorVector(c)}\")"
   ]
  },
  {
   "cell_type": "markdown",
   "metadata": {},
   "source": [
    "The third attack method is Nguyen's Attack which uses a flaw in its design."
   ]
  },
  {
   "cell_type": "code",
   "execution_count": 902,
   "metadata": {},
   "outputs": [],
   "source": [
    "ggh_3 = GGH(2, matrix(ZZ, 2, [[17, 0], [0, 19]]), matrix(ZZ, 2, [[2, 3], [3, 5]]))\n",
    "m = vector(ZZ, [2, -5])\n",
    "e = vector(ZZ, [1, -1])\n",
    "c = ggh_3.encrypt(m, e)"
   ]
  },
  {
   "cell_type": "code",
   "execution_count": 903,
   "metadata": {},
   "outputs": [
    {
     "name": "stdout",
     "output_type": "stream",
     "text": [
      "The decrypted plaintext message is: (0, 1) mod 2\n"
     ]
    }
   ],
   "source": [
    "attacker_3 = GGHAttacker(ggh_3.getPublicKey())\n",
    "sigma = 1\n",
    "print(f\"The decrypted plaintext message is: {attacker_3.nguyenAttack(c, sigma)} mod {2 * sigma}\")"
   ]
  }
 ],
 "metadata": {
  "kernelspec": {
   "display_name": "SageMath 10.1",
   "language": "sage",
   "name": "SageMath-10.1"
  },
  "language_info": {
   "codemirror_mode": {
    "name": "ipython",
    "version": 3
   },
   "file_extension": ".py",
   "mimetype": "text/x-python",
   "name": "python",
   "nbconvert_exporter": "python",
   "pygments_lexer": "ipython3",
   "version": "3.11.1"
  }
 },
 "nbformat": 4,
 "nbformat_minor": 5
}
